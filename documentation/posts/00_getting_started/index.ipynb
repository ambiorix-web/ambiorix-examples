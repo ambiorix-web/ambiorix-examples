{
  "cells": [
    {
      "cell_type": "raw",
      "metadata": {},
      "source": [
        "---\n",
        "title: \"00: getting started\"\n",
        "author: \"Kennedy Mwavu\"\n",
        "date: \"2024-07-10\"\n",
        "categories: [00_getting_started]\n",
        "---"
      ],
      "id": "6e6fea88"
    },
    {
      "cell_type": "markdown",
      "metadata": {},
      "source": [
        "## Installation\n",
        "\n",
        "- Clone the repo:\n",
        "\n",
        "  ```bash\n",
        "  git clone git@github.com:kennedymwavu/ambiorix-examples.git\n",
        "  ```\n",
        "\n",
        "- `cd` into the root dir:\n",
        "\n",
        "  ```bash\n",
        "  cd ambiorix-examples\n",
        "  ```\n",
        "\n",
        "  All the examples assume you're in this directory.\n",
        "\n",
        "## Say hello\n",
        "\n",
        "You're now ready for a ✨[Hello, World!](../01_hello_world/index.qmd)✨\n",
        "\n",
        "\n",
        "```{html}\n",
        "<i class = \"bi bi-arrow-right></i>\n",
        "```"
      ],
      "id": "ade3e7b3"
    }
  ],
  "metadata": {
    "kernelspec": {
      "display_name": "Python 3",
      "language": "python",
      "name": "python3"
    }
  },
  "nbformat": 4,
  "nbformat_minor": 5
}